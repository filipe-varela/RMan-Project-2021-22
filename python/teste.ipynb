{
 "cells": [
  {
   "cell_type": "markdown",
   "metadata": {},
   "source": [
    "# Plano\n",
    "Efetuar os módulos dentro do de cada ficheiros e depois efetuar um teste a partir de um Jupyter Notebook, onde é possível posteriormente mostrar gráficos e explicar teoria à qual vai ser auxiliar para módulos mais à frente.\n",
    "\n",
    "Entretanto, posso utilizar também o notebook para responder a cada questão do enunciado do projeto, ficando assim uma forma de mostrar que os módulos efetivamente funcionam."
   ]
  }
 ],
 "metadata": {
  "language_info": {
   "name": "python"
  },
  "orig_nbformat": 4
 },
 "nbformat": 4,
 "nbformat_minor": 2
}
